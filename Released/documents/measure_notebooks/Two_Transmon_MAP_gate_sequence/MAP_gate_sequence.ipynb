{
 "cells": [
  {
   "cell_type": "code",
   "execution_count": 1,
   "metadata": {},
   "outputs": [],
   "source": [
    "import os\n",
    "import sys\n",
    "import pprint as pp\n",
    "import numpy as np\n",
    "import matplotlib.pyplot as plt"
   ]
  },
  {
   "cell_type": "code",
   "execution_count": 2,
   "metadata": {},
   "outputs": [],
   "source": [
    "# set the main directory to import qel instruments drivers\n",
    "sys.path.append(os.getcwd().replace('\\\\documents\\\\measure_notebooks\\\\Two_Transmon_MAP_gate_sequence',''))\n",
    "from instruments.Tektronix_AWG5208.TektronixAWG_core_v2 import AWG5208"
   ]
  },
  {
   "cell_type": "code",
   "execution_count": 3,
   "metadata": {},
   "outputs": [
    {
     "name": "stdout",
     "output_type": "stream",
     "text": [
      "Connect to Tektronix_AWG_5208 successfully\n",
      "Statement: TEKTRONIX,AWG5208,B030598,FV:6.6.0131.0\n"
     ]
    }
   ],
   "source": [
    "# connect to AWG\n",
    "awg = AWG5208(inst_visaAddress='TCPIP0::192.168.20.43::inst0::INSTR')\n",
    "# help(awg)\n",
    "# set sampling rate and reference clock\n",
    "awg.set_sample_rate(sample_rate=1.0E9)\n",
    "awg.set_extref_source(ref_freq=10E6)\n",
    "# clear, set, and upload\n",
    "awg.clr_wfm()"
   ]
  },
  {
   "cell_type": "code",
   "execution_count": 4,
   "metadata": {
    "scrolled": false
   },
   "outputs": [
    {
     "name": "stdout",
     "output_type": "stream",
     "text": [
      "3620\n",
      "3620\n",
      "3640\n",
      "3660\n",
      "3680\n",
      "3700\n",
      "3720\n",
      "3740\n",
      "3760\n",
      "3780\n"
     ]
    }
   ],
   "source": [
    "# assign waveforms\n",
    "from WaveForm_Editor import *\n",
    "from WavetoolsV6 import Wave\n",
    "\n",
    "sampling_rate = 1e9\n",
    "gen_wfm_amount = 10 \n",
    "\n",
    "ChannelList = ['Q1', 'Q2', 'AC_Stark','ReadOut']\n",
    "\n",
    "drive_sigmalen = 50\n",
    "readout_sigmalen = 30\n",
    "\n",
    "ramsey_half_pi = 400\n",
    "ramsey_precession_delta = 20\n",
    "\n",
    "readout_sigmalen = 30\n",
    "readout_duration = 300\n",
    "relaxation =2000\n",
    "\n",
    "mkr_duration = 100\n",
    "\n",
    "\n",
    "gate_duration = drive_sigmalen*16 + ramsey_half_pi*2 + ramsey_precession_delta\n",
    "readout_duration = readout_sigmalen*8 + readout_duration \n",
    "\n",
    "offset_1 = gate_duration\n",
    "offset_2 = relaxation\n",
    "\n",
    "for idx in range(gen_wfm_amount):\n",
    "\n",
    "    ACStark_duration  =  drive_sigmalen*8 + ramsey_half_pi*2 + ramsey_precession_delta*idx \n",
    "   \n",
    "    a = Wave(NullPulse,[offset_1])  \n",
    "\n",
    "    b = Wave(GaussianPulse,[drive_sigmalen,ramsey_half_pi])\n",
    "\n",
    "    c = Wave(GaussianPulse,[drive_sigmalen,ACStark_duration])\n",
    "\n",
    "    d = Wave(NullPulse,[ramsey_precession_delta*idx])\n",
    "      \n",
    "    e = Wave(GaussianPulse,[readout_sigmalen,readout_duration])\n",
    "\n",
    "    m = Wave(SquarePulse,[mkr_duration])\n",
    "\n",
    "    n = Wave(NullPulse,[offset_2]) \n",
    "\n",
    "\n",
    "    qb1 = ~a\n",
    "\n",
    "    qb2 = ~b + ~d + ~b \n",
    "\n",
    "    AC_Stark = ~c \n",
    "\n",
    "    readout = ~e\n",
    "\n",
    "    mkr = ~m\n",
    "\n",
    "    Null_1 = ~a \n",
    "\n",
    "    Null_2 = ~n\n",
    "\n",
    "\n",
    "\n",
    "\n",
    "\n",
    "    gate = ~qb1 / ~qb2 / ~AC_Stark / ~Null_1/ ~Null_1\n",
    "\n",
    "    ReadOut = ~Null_2 / ~Null_2 / ~Null_2 / ~readout / ~mkr\n",
    "\n",
    "    output = gate + ReadOut\n",
    "    \n",
    "    awg.set_wfm(wfm_name=f'{ChannelList[0]}_{idx+1}', wfm=(output.y[0]))\n",
    "    awg.set_wfm(wfm_name=f'{ChannelList[1]}_{idx+1}', wfm=(output.y[1]))\n",
    "    awg.set_wfm(wfm_name=f'{ChannelList[2]}_{idx+1}', wfm=(output.y[2]))\n",
    "    awg.set_wfm(wfm_name=f'{ChannelList[3]}_{idx+1}', wfm=(output.y[3]),mkr1=(output.y[4]))\n",
    " \n",
    "    #output.plot(size=[20,3])\n",
    "\n",
    "    print(len(output.y[0]))\n",
    "\n",
    "awg.upload_wfm()"
   ]
  },
  {
   "cell_type": "code",
   "execution_count": 5,
   "metadata": {},
   "outputs": [
    {
     "name": "stdout",
     "output_type": "stream",
     "text": [
      "0 Q1\n",
      "0\n",
      "1\n",
      "2\n",
      "3\n",
      "4\n",
      "5\n",
      "6\n",
      "7\n",
      "8\n",
      "9\n",
      "1 Q2\n",
      "0\n",
      "1\n",
      "2\n",
      "3\n",
      "4\n",
      "5\n",
      "6\n",
      "7\n",
      "8\n",
      "9\n",
      "2 AC_Stark\n",
      "0\n",
      "1\n",
      "2\n",
      "3\n",
      "4\n",
      "5\n",
      "6\n",
      "7\n",
      "8\n",
      "9\n",
      "3 ReadOut\n",
      "0\n",
      "1\n",
      "2\n",
      "3\n",
      "4\n",
      "5\n",
      "6\n",
      "7\n",
      "8\n",
      "9\n"
     ]
    }
   ],
   "source": [
    "\n",
    "# assign waveform to corresponding sequence position one at a time\n",
    "seq_name='MAP_gate'\n",
    "trackList = ChannelList\n",
    "\n",
    "# clear, set, assign and upload\n",
    "\n",
    "awg.clr_seq()\n",
    "awg.set_seq(seq_name, num_track=len(trackList), num_step=gen_wfm_amount)\n",
    "for track_idx, track in enumerate(trackList):\n",
    "    #print(track_idx,track)\n",
    "    for step_idx in range(gen_wfm_amount):\n",
    "        #print(step_idx)\n",
    "        awg.assign_seq(f'{track}_{step_idx+1}',seq_name, track_idx+1, step_idx+1)\n",
    "awg.upload_seq(seq_name)\n"
   ]
  },
  {
   "cell_type": "code",
   "execution_count": 6,
   "metadata": {},
   "outputs": [],
   "source": [
    "# assign waveforms/sequences to channels\n",
    "awg.assign_ch(1, 'MAP_gate', track_index=1)\n",
    "awg.assign_ch(2, 'MAP_gate', track_index=2)\n",
    "awg.assign_ch(3, 'MAP_gate', track_index=3)\n",
    "awg.assign_ch(4, 'MAP_gate', track_index=4)\n",
    "# for sequence \n",
    "#awg.assign_ch(1, f'{ChannelList[0]}', auto_output=False, auto_mkr=False)\n",
    "#awg.assign_ch(2, f'{ChannelList[1]}', auto_output=False, auto_mkr=False)\n",
    "#awg.assign_ch(3, f'{ChannelList[2]}', auto_output=False, auto_mkr=False)\n",
    "#awg.assign_ch(4, f'{ChannelList[3]}', auto_output=False, auto_mkr=True)\n",
    "#awg.assign_ch(5, 'Q_1000000.0', auto_output=False, auto_mkr=False)# for waveform"
   ]
  },
  {
   "cell_type": "code",
   "execution_count": 7,
   "metadata": {},
   "outputs": [],
   "source": [
    "# set channel amplitudes\n",
    "awg.set_ch_amp(ch=1, wfm_Vpp=1.0, wfm_offset=0., mkr1=1.0, mkr2=1.0, mkr3=1.0, mkr4=1.0)\n",
    "awg.set_ch_amp(ch=2, wfm_Vpp=1.0, wfm_offset=0., mkr1=1.0, mkr2=1.0, mkr3=1.0, mkr4=1.0)\n",
    "awg.set_ch_amp(ch=3, wfm_Vpp=1.0, wfm_offset=0., mkr1=1.0, mkr2=1.0, mkr3=1.0, mkr4=1.0)\n",
    "awg.set_ch_amp(ch=4, wfm_Vpp=1.0, wfm_offset=0., mkr1=1.0, mkr2=1.0, mkr3=1.0, mkr4=1.0)\n",
    "#awg.set_ch_amp(ch=5, wfm_Vpp=1.0, wfm_offset=0., mkr1=1.0, mkr2=1.0, mkr3=1.0, mkr4=1.0)"
   ]
  },
  {
   "cell_type": "code",
   "execution_count": 8,
   "metadata": {},
   "outputs": [
    {
     "name": "stdout",
     "output_type": "stream",
     "text": [
      "Tektronix_AWG_5208 @ TCPIP0::192.168.20.43::inst0::INSTR\n",
      "---\n",
      "Waveform list: dict_keys(['Q1_1', 'Q2_1', 'AC_Stark_1', 'ReadOut_1', 'Q1_2', 'Q2_2', 'AC_Stark_2', 'ReadOut_2', 'Q1_3', 'Q2_3', 'AC_Stark_3', 'ReadOut_3', 'Q1_4', 'Q2_4', 'AC_Stark_4', 'ReadOut_4', 'Q1_5', 'Q2_5', 'AC_Stark_5', 'ReadOut_5', 'Q1_6', 'Q2_6', 'AC_Stark_6', 'ReadOut_6', 'Q1_7', 'Q2_7', 'AC_Stark_7', 'ReadOut_7', 'Q1_8', 'Q2_8', 'AC_Stark_8', 'ReadOut_8', 'Q1_9', 'Q2_9', 'AC_Stark_9', 'ReadOut_9', 'Q1_10', 'Q2_10', 'AC_Stark_10', 'ReadOut_10'])\n",
      "Sequence list: dict_keys(['MAP_gate'])\n",
      "AWG Error state: 0,\"No error\"\n"
     ]
    }
   ],
   "source": [
    "print(awg)\n",
    "# del awg"
   ]
  },
  {
   "cell_type": "code",
   "execution_count": null,
   "metadata": {},
   "outputs": [],
   "source": []
  }
 ],
 "metadata": {
  "kernelspec": {
   "display_name": "Python 3",
   "language": "python",
   "name": "python3"
  },
  "language_info": {
   "codemirror_mode": {
    "name": "ipython",
    "version": 3
   },
   "file_extension": ".py",
   "mimetype": "text/x-python",
   "name": "python",
   "nbconvert_exporter": "python",
   "pygments_lexer": "ipython3",
   "version": "3.8.3"
  }
 },
 "nbformat": 4,
 "nbformat_minor": 4
}
