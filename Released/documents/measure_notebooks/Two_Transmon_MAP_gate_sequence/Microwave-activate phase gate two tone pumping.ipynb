{
 "cells": [
  {
   "cell_type": "code",
   "execution_count": 1,
   "metadata": {},
   "outputs": [],
   "source": [
    "import os\n",
    "import sys\n",
    "import pprint as pp\n",
    "import numpy as np\n",
    "import matplotlib.pyplot as plt\n",
    "\n",
    "# set the main directory to import qel instruments drivers\n",
    "sys.path.append(os.getcwd().replace('\\\\documents\\\\measure_notebooks\\\\Two_Transmon_MAP_gate_sequence',''))\n",
    "from instruments.Tektronix_AWG5208.TektronixAWG_core import Tektronix_AWG5208\n",
    "from instruments.Tektronix_AWG5208.TektronixAWG_sequenceEditor import Time_Domain_Sequence\n",
    "from instruments.Tektronix_AWG5208.plot_tools import *"
   ]
  },
  {
   "cell_type": "code",
   "execution_count": 2,
   "metadata": {},
   "outputs": [],
   "source": [
    "MAP_twotone =  Time_Domain_Sequence()\n",
    "\n",
    "gen_wfm_amount = 2\n",
    "wfm_totlen = 10000*3\n",
    "gauss_sig = 100\n",
    "qb2_00to02_pi =  4500\n",
    "qb2_00to02_mkr_duration = 0 \n",
    "qb2_00to02_mkr_tone = 'no_mkr' \n",
    "\n",
    "qb1_driving_flat = 0\n",
    "qb1_drivingmkr_duration = 0\n",
    "qb1_drivingmkr_tone = 'no_mkr'\n",
    "\n",
    "rd_offset = 7000*3\n",
    "rd_flat = 3000\n",
    "rd_mkr_duration = 1000\n",
    "rd_mkr_tone = 'mkr1'\n",
    "\n",
    "\n",
    "\n",
    "store_MAP_twotone_seq = {}\n",
    "\n",
    "store_MAP_twotone_seq = MAP_twotone.gen_MAP_Twotone_pumping_seq(gen_wfm_amount, wfm_totlen, gauss_sig ,qb2_00to02_pi,\n",
    "                                    qb2_00to02_mkr_duration, qb2_00to02_mkr_tone, qb1_driving_flat,\n",
    "                                    qb1_drivingmkr_duration, qb1_drivingmkr_tone, rd_offset, rd_flat, rd_mkr_duration, rd_mkr_tone) \n",
    "    \n",
    "# display the sequence stored structure\n",
    "#pp.pprint(store_MAP_twotone_seq)\n",
    "\n",
    "# plot the pulse shaping in the specified step\n",
    "seq_name = 'MAPtwotone_sequence'\n",
    "\n",
    "store_time_domain_seq = store_MAP_twotone_seq\n",
    "#pp.pprint(store_time_domain_seq)\n",
    "#step_select = 2\n",
    "#plt_qb_rd(seq_name, step_select, store_time_domain_seq)\n"
   ]
  },
  {
   "cell_type": "code",
   "execution_count": 3,
   "metadata": {},
   "outputs": [
    {
     "name": "stdout",
     "output_type": "stream",
     "text": [
      "Connect to Tektronix_AWG5208 successfully\n",
      "Statement: TEKTRONIX,AWG5208,B030598,FV:6.6.0131.0\n"
     ]
    }
   ],
   "source": [
    "inst_name = 'Tektronix_AWG5208'\n",
    "inst_address = 'TCPIP0::192.168.20.43::inst0::INSTR'\n",
    "timeout = 10\n",
    "Clean_Option = True\n",
    "sample_rate = 1E9\n",
    "ref_ext = 10E6\n",
    "\n",
    "# initialize AWG settings\n",
    "awgClient = Tektronix_AWG5208(inst_name, inst_address, timeout)\n",
    "awgClient.connect()\n",
    "if Clean_Option:awgClient.del_wlist();awgClient.del_slist()\n",
    "awgClient.set_channel_mkr(0,1,0,1,0,0,0,0)\n",
    "awgClient.set_sample_rate(sample_rate)\n",
    "awgClient.set_extref_source(ref_ext)"
   ]
  },
  {
   "cell_type": "code",
   "execution_count": 4,
   "metadata": {},
   "outputs": [
    {
     "name": "stdout",
     "output_type": "stream",
     "text": [
      "The transfer mission is completed.\n"
     ]
    }
   ],
   "source": [
    "seq_name = 'MAPtwotone_sequence'\n",
    "track_assign_order = list(store_time_domain_seq.keys())\n",
    "\n",
    "awgClient.set_sequential_assign_wfm2seqtable(\n",
    "    seq_name,\n",
    "    track_assign_order,\n",
    "    store_time_domain_seq)"
   ]
  },
  {
   "cell_type": "code",
   "execution_count": 5,
   "metadata": {},
   "outputs": [],
   "source": [
    "channel_qb2_pumping = 2\n",
    "seq_track_for_qb2pumping = 2\n",
    "channel_rd = 1\n",
    "seq_track_for_readOut = 1\n",
    "channel_qb1_driving = 3\n",
    "seq_track_for_qb1_driving = 3\n",
    "awgClient.load_seq_to_channel(channel_qb2_pumping, seq_name, seq_track_for_qb2pumping)\n",
    "awgClient.load_seq_to_channel(channel_rd, seq_name, seq_track_for_readOut)\n",
    "awgClient.load_seq_to_channel(channel_qb1_driving, seq_name, seq_track_for_qb1_driving)"
   ]
  },
  {
   "cell_type": "code",
   "execution_count": 6,
   "metadata": {},
   "outputs": [
    {
     "name": "stdout",
     "output_type": "stream",
     "text": [
      "Tektronix_AWG5208 has been disconnected by user.\n"
     ]
    }
   ],
   "source": [
    "# disconnect the awg\n",
    "awgClient.disconnect()"
   ]
  },
  {
   "cell_type": "code",
   "execution_count": null,
   "metadata": {},
   "outputs": [],
   "source": []
  }
 ],
 "metadata": {
  "kernelspec": {
   "display_name": "Python 3",
   "language": "python",
   "name": "python3"
  },
  "language_info": {
   "codemirror_mode": {
    "name": "ipython",
    "version": 3
   },
   "file_extension": ".py",
   "mimetype": "text/x-python",
   "name": "python",
   "nbconvert_exporter": "python",
   "pygments_lexer": "ipython3",
   "version": "3.8.3"
  }
 },
 "nbformat": 4,
 "nbformat_minor": 4
}
