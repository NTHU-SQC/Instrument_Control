{
 "cells": [
  {
   "cell_type": "code",
   "execution_count": 1,
   "metadata": {},
   "outputs": [],
   "source": [
    "import os\n",
    "import sys\n",
    "import pprint as pp\n",
    "import numpy as np\n",
    "import matplotlib.pyplot as plt\n",
    "\n",
    "# set the main directory to import qel instruments drivers\n",
    "sys.path.append(os.getcwd().replace('\\\\documents\\\\measure_notebooks',''))\n",
    "from instruments.Tektronix_AWG5208.TektronixAWG_core import Tektronix_AWG5208\n",
    "from instruments.Tektronix_AWG5208.TektronixAWG_sequenceEditor import Time_Domain_Sequence\n",
    "from instruments.Tektronix_AWG5208.plot_tools import *"
   ]
  },
  {
   "cell_type": "code",
   "execution_count": 2,
   "metadata": {},
   "outputs": [
    {
     "data": {
      "image/png": "[encoded data removed]",
      "text/plain": [
       "<Figure size 432x288 with 1 Axes>"
      ]
     },
     "metadata": {
      "needs_background": "light"
     },
     "output_type": "display_data"
    }
   ],
   "source": [
    "t1seq_obj = Time_Domain_Sequence()\n",
    "# define the initial condition for generating a T1-sequence\n",
    "\n",
    "wfm_amount = 401\n",
    "wfm_totlen = 10000*3\n",
    "gauss_sig = 100\n",
    "qubitDrive_delay_time_delta = 20\n",
    "# pi pulse\n",
    "qubitDrive_flat = 1000\n",
    "qubitDrive_mkrDuration = 0\n",
    "qubitDrive_mkr = 'no_mkr'\n",
    "readOut_offset =  7000*3\n",
    "readOut_flat = 3000\n",
    "readOut_mkrDuration = 1000\n",
    "readOut_mkr = 'mkr1'\n",
    "\n",
    "# clean the temporary buffer\n",
    "store_t1_seq = {}\n",
    "# set the initial condition for generating a T1-sequence\n",
    "store_t1_seq = t1seq_obj.gen_T1_seq(wfm_amount,\n",
    "                             wfm_totlen,\n",
    "                             gauss_sig,\n",
    "                             qubitDrive_delay_time_delta,\n",
    "                             qubitDrive_flat,\n",
    "                             qubitDrive_mkrDuration,\n",
    "                             qubitDrive_mkr,\n",
    "                             readOut_offset,\n",
    "                             readOut_flat,\n",
    "                             readOut_mkrDuration,\n",
    "                             readOut_mkr)\n",
    "# display the sequence stored structure\n",
    "# pp.pprint(store_t1_seq)\n",
    "\n",
    "# plot the pulse shaping in the specified step\n",
    "seq_name = 'T1_sequence'\n",
    "step_select = 5\n",
    "store_time_domain_seq = store_t1_seq\n",
    "plt_qb_rd(seq_name, step_select, store_time_domain_seq)\n"
   ]
  },
  {
   "cell_type": "code",
   "execution_count": 3,
   "metadata": {},
   "outputs": [
    {
     "name": "stdout",
     "output_type": "stream",
     "text": [
      "Connect to Tektronix_AWG5208 successfully\n",
      "Statement: TEKTRONIX,AWG5208,B030598,FV:6.6.0131.0\n"
     ]
    }
   ],
   "source": [
    "inst_name = 'Tektronix_AWG5208'\n",
    "inst_address = 'TCPIP0::192.168.20.43::inst0::INSTR'\n",
    "timeout = 10\n",
    "Clean_Option = True\n",
    "sample_rate = 1E9\n",
    "ref_ext = 10E6\n",
    "\n",
    "# initialize AWG settings\n",
    "awgClient = Tektronix_AWG5208(inst_name, inst_address, timeout)\n",
    "awgClient.connect()\n",
    "if Clean_Option:awgClient.del_wlist();awgClient.del_slist()\n",
    "awgClient.set_channel_mkr(0,1,0,1,0,0,0,0)\n",
    "awgClient.set_sample_rate(sample_rate)\n",
    "awgClient.set_extref_source(ref_ext)"
   ]
  },
  {
   "cell_type": "code",
   "execution_count": 4,
   "metadata": {},
   "outputs": [
    {
     "name": "stdout",
     "output_type": "stream",
     "text": [
      "The transfer mission is completed.\n"
     ]
    }
   ],
   "source": [
    "seq_name = 'T1_Sequence'\n",
    "track_assign_order = list(store_time_domain_seq.keys())\n",
    "\n",
    "awgClient.set_sequential_assign_wfm2seqtable(\n",
    "    seq_name,\n",
    "    track_assign_order,\n",
    "    store_time_domain_seq)"
   ]
  },
  {
   "cell_type": "code",
   "execution_count": 5,
   "metadata": {},
   "outputs": [],
   "source": [
    "channel_qb = 1\n",
    "seq_track_for_qubitDrive = 1\n",
    "channel_rd = 2\n",
    "seq_track_for_readOut = 2\n",
    "awgClient.load_seq_to_channel(channel_qb, seq_name, seq_track_for_qubitDrive)\n",
    "awgClient.load_seq_to_channel(channel_rd, seq_name, seq_track_for_readOut)"
   ]
  },
  {
   "cell_type": "code",
   "execution_count": 6,
   "metadata": {},
   "outputs": [
    {
     "name": "stdout",
     "output_type": "stream",
     "text": [
      "Tektronix_AWG5208 has been disconnected by user.\n"
     ]
    }
   ],
   "source": [
    "# disconnect the awg\n",
    "awgClient.disconnect()"
   ]
  }
 ],
 "metadata": {
  "kernelspec": {
   "display_name": "Python 3",
   "language": "python",
   "name": "python3"
  },
  "language_info": {
   "codemirror_mode": {
    "name": "ipython",
    "version": 3
   },
   "file_extension": ".py",
   "mimetype": "text/x-python",
   "name": "python",
   "nbconvert_exporter": "python",
   "pygments_lexer": "ipython3",
   "version": "3.8.3"
  }
 },
 "nbformat": 4,
 "nbformat_minor": 4
}
